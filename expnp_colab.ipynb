{
  "nbformat": 4,
  "nbformat_minor": 0,
  "metadata": {
    "colab": {
      "name": "expnp_colab (1).ipynb",
      "provenance": [],
      "collapsed_sections": []
    },
    "kernelspec": {
      "name": "python3",
      "display_name": "Python 3"
    },
    "accelerator": "GPU"
  },
  "cells": [
    {
      "cell_type": "markdown",
      "metadata": {
        "id": "5OcSaXhD8Nh0"
      },
      "source": [
        "# 手書き文字認識を行うNeural Networkのレシピ"
      ]
    },
    {
      "cell_type": "markdown",
      "metadata": {
        "id": "113c4jyo8V3c"
      },
      "source": [
        "## このスクリプトについて\n",
        "ニューラルネットワークを使った画像認識のレシピです。今回はチュートリアルなどでよく使われている手書き文字データセットMNISTを学習してモデルを作成し、テスト画像を入力してその認識精度を確認します。"
      ]
    },
    {
      "cell_type": "markdown",
      "metadata": {
        "id": "eMZptlN9J73d"
      },
      "source": [
        "## 実験条件の設定"
      ]
    },
    {
      "cell_type": "markdown",
      "metadata": {
        "id": "ItESsJMIKEz8"
      },
      "source": [
        "実験で用いるデータセットのサイズを指定します。MNIST(FashionMNIST)は60000枚の画像を含むデータセットですが、ここで指定した割合のデータを学習・評価に用います。"
      ]
    },
    {
      "cell_type": "code",
      "metadata": {
        "id": "GjORKgwiKnOO"
      },
      "source": [
        "# 20% -> 0.2\n",
        "util_rate = 0.2"
      ],
      "execution_count": null,
      "outputs": []
    },
    {
      "cell_type": "markdown",
      "metadata": {
        "id": "UpTablEP8mlR"
      },
      "source": [
        "## 環境のセットアップ\n"
      ]
    },
    {
      "cell_type": "markdown",
      "metadata": {
        "id": "rhLnQJ0w9WgI"
      },
      "source": [
        "### GPUの種類を確認する\n",
        "スピード　：　Tesla K80 < Tesla T4 < Tesla P100"
      ]
    },
    {
      "cell_type": "code",
      "metadata": {
        "id": "RrSPtdQWiL1U"
      },
      "source": [
        "!nvidia-smi"
      ],
      "execution_count": null,
      "outputs": []
    },
    {
      "cell_type": "markdown",
      "metadata": {
        "id": "Zr9I4qM9-sib"
      },
      "source": [
        "### 必要なライブラリのインポート"
      ]
    },
    {
      "cell_type": "code",
      "metadata": {
        "id": "ZXNuuII9icFj"
      },
      "source": [
        "import torch\n",
        "import torch.nn as nn\n",
        "import torch.optim as optim\n",
        "import numpy as np\n",
        "import matplotlib.pyplot as plt\n",
        "import seaborn as sns\n",
        "from torchvision import datasets, transforms\n",
        "from torch.utils.data import DataLoader\n",
        "import time"
      ],
      "execution_count": null,
      "outputs": []
    },
    {
      "cell_type": "markdown",
      "metadata": {
        "id": "XHcKzY0G-0Dl"
      },
      "source": [
        "### GPUが有効になっているか確認\n",
        "CUDAはGPUを供給するメーカーのnVIDIA社が提供するドライバである。CPUと表示された場合はランタイムのタイプをGPUに変更してライブラリをもう一度インポートする。"
      ]
    },
    {
      "cell_type": "code",
      "metadata": {
        "id": "CXEit4LSifJx"
      },
      "source": [
        "device = \"cuda\" if torch.cuda.is_available() else \"cpu\"\n",
        "print(device)"
      ],
      "execution_count": null,
      "outputs": []
    },
    {
      "cell_type": "markdown",
      "metadata": {
        "id": "UfAjrWfT_2vb"
      },
      "source": [
        "## ニューラルネットワークのパラメータと学習の設定"
      ]
    },
    {
      "cell_type": "markdown",
      "metadata": {
        "id": "NILRwCI6AonM"
      },
      "source": [
        "ダウンロードエラーになる場合は8行目の先頭に#を追加して、9行目の先頭の#を削除してください。  \n",
        "(コメントアウト)"
      ]
    },
    {
      "cell_type": "code",
      "metadata": {
        "id": "e45DUQ1ZiiGt"
      },
      "source": [
        "# 前処理\n",
        "transform = transforms.Compose([\n",
        "    # 画像をTensorに変換してくれる\n",
        "    # チャネルラストをチャネルファーストに\n",
        "    # 0〜255の整数値を0.0〜1.0の浮動小数点に変換してくれる\n",
        "    transforms.ToTensor()                              \n",
        "])\n",
        "dataset = datasets.MNIST(root=\"./data\", train=True, download=True, transform=transform)\n",
        "#dataset = datasets.FashionMNIST(root=\"./data\", train=True, download=True, transform=transform)\n",
        "\n",
        "#実験条件で設定した割合のデータをdatasetから取り出す\n",
        "indices = np.random.permutation(len(dataset))[:int(len(dataset)*util_rate)]\n",
        "subset = torch.utils.data.Subset(dataset, indices)\n",
        "\n",
        "#取り出したdatasetのうち80%を学習に、20%をテストに使う。\n",
        "n_imgs = len(subset)\n",
        "n_train = int(len(subset)*0.8)\n",
        "n_val = n_imgs - n_train\n",
        "\n",
        "train_dataset, val_dataset = torch.utils.data.random_split(subset, [n_train, n_val])"
      ],
      "execution_count": null,
      "outputs": []
    },
    {
      "cell_type": "code",
      "metadata": {
        "id": "0_Y0CMJliqhJ"
      },
      "source": [
        "num_batches = 100\n",
        "if len(train_dataset)%100 != 0 or len(val_dataset)%100 != 0:\n",
        "  num_batches = 10\n",
        "print('Batch Size : ', num_batches)\n",
        "train_dataloader = DataLoader(train_dataset, batch_size=num_batches, shuffle=True)\n",
        "val_dataloader = DataLoader(val_dataset, batch_size=num_batches, shuffle=False)\n",
        "train_iter = iter(train_dataloader)\n",
        "# 100個だけミニバッチからデータをロードする\n",
        "imgs, labels = train_iter.next()"
      ],
      "execution_count": null,
      "outputs": []
    },
    {
      "cell_type": "markdown",
      "metadata": {
        "id": "LsDw4pIKJ-Aa"
      },
      "source": [
        "## trainingに用いる画像の確認"
      ]
    },
    {
      "cell_type": "code",
      "metadata": {
        "id": "cEll--hXiykC"
      },
      "source": [
        "print(labels)"
      ],
      "execution_count": null,
      "outputs": []
    },
    {
      "cell_type": "code",
      "metadata": {
        "id": "-Jhnc48ui696"
      },
      "source": [
        "img = imgs[0]\n",
        "# 画像データを表示するために、チャネルファーストのデータをチャネルラストに変換する\n",
        "img_permute = img.permute(1, 2, 0)\n",
        "# tensorから2次元のarrayに変換する\n",
        "sns.heatmap(img_permute.numpy()[:, :, 0])"
      ],
      "execution_count": null,
      "outputs": []
    },
    {
      "cell_type": "markdown",
      "metadata": {
        "id": "CwO_2FsFAPgO"
      },
      "source": [
        "## ニューラルネットワークの定義"
      ]
    },
    {
      "cell_type": "code",
      "metadata": {
        "id": "UVPMtjWNi-S2"
      },
      "source": [
        "class MLP(nn.Module):\n",
        "    def __init__(self):\n",
        "        super().__init__()\n",
        "        self.fc1 = nn.Linear(28 * 28, 100)\n",
        "        self.relu1 = nn.ReLU(inplace=True)\n",
        "        self.fc2 = nn.Linear(100, 100)\n",
        "        self.relu2 = nn.ReLU(inplace=True)\n",
        "        self.fc3 = nn.Linear(100, 10)\n",
        "\n",
        "    def forward(self, x):\n",
        "        x = self.fc1(x)\n",
        "        x = self.relu1(x)\n",
        "        x = self.fc2(x)\n",
        "        x = self.relu2(x)\n",
        "        x = self.fc3(x)\n",
        "\n",
        "        return x"
      ],
      "execution_count": null,
      "outputs": []
    },
    {
      "cell_type": "code",
      "metadata": {
        "id": "4aWaB7_5jBV8"
      },
      "source": [
        "model = MLP()\n",
        "\n",
        "print(model.to(device))"
      ],
      "execution_count": null,
      "outputs": []
    },
    {
      "cell_type": "markdown",
      "metadata": {
        "id": "iID6N8p7jJMU"
      },
      "source": [
        "## ニューラルネットワークのトレーニング"
      ]
    },
    {
      "cell_type": "code",
      "metadata": {
        "id": "D9YuNPEpjrRy"
      },
      "source": [
        "criterion = nn.CrossEntropyLoss()\n",
        "optimizer = optim.Adam(model.parameters(), lr=0.001)"
      ],
      "execution_count": null,
      "outputs": []
    },
    {
      "cell_type": "code",
      "metadata": {
        "id": "iSE8OJRWjN62"
      },
      "source": [
        "num_epochs = 10\n",
        "train_losses = []\n",
        "train_accs = []\n",
        "val_losses = []\n",
        "val_accs = []\n",
        "\n",
        "start_time = time.process_time()\n",
        "\n",
        "for epoch in range(num_epochs):\n",
        "    #train\n",
        "    running_train_loss = 0.0\n",
        "    running_train_acc = 0.0\n",
        "    for imgs, labels in train_dataloader:\n",
        "        imgs = imgs.view(num_batches, -1)\n",
        "        imgs = imgs.to(device)\n",
        "        labels = labels.to(device)\n",
        "        optimizer.zero_grad()\n",
        "        output = model(imgs)\n",
        "        loss = criterion(output, labels)\n",
        "        running_train_loss += loss.item()\n",
        "        # dim=1 => 0-9の分類方向のMax値を返す\n",
        "        pred = torch.argmax(output, dim=1)\n",
        "        running_train_acc += torch.mean(pred.eq(labels).float())\n",
        "        loss.backward()\n",
        "        optimizer.step()\n",
        "    # 画像数で割る\n",
        "    running_train_loss /= len(train_dataloader)\n",
        "    running_train_acc /= len(train_dataloader)\n",
        "    train_losses.append(running_train_loss)\n",
        "    train_accs.append(running_train_acc)\n",
        "\n",
        "    #test\n",
        "    running_val_loss = 0.0\n",
        "    running_val_acc = 0.0\n",
        "    with torch.no_grad():\n",
        "      for imgs, labels in val_dataloader:\n",
        "        imgs = imgs.view(num_batches, -1)\n",
        "        imgs = imgs.to(device)\n",
        "        labels = labels.to(device)\n",
        "        output = model(imgs)\n",
        "        loss = criterion(output, labels)\n",
        "        running_val_loss += loss.item()\n",
        "        # dim=1 => 0-9の分類方向のMax値を返す\n",
        "        pred = torch.argmax(output, dim=1)\n",
        "        running_val_acc += torch.mean(pred.eq(labels).float())\n",
        "        \n",
        "    # 画像数で割る\n",
        "    running_val_loss /= len(val_dataloader)\n",
        "    running_val_acc /= len(val_dataloader)\n",
        "    val_losses.append(running_val_loss)\n",
        "    val_accs.append(running_val_acc)\n",
        "\n",
        "    print(\"epoch: {}, train_loss: {}, train_acc: {}, test_loss: {}, test_acc: {}\".format(epoch, running_train_loss, running_train_acc, running_val_loss, running_val_acc))\n",
        "\n",
        "end_time = time.process_time()\n"
      ],
      "execution_count": null,
      "outputs": []
    },
    {
      "cell_type": "markdown",
      "metadata": {
        "id": "S6jtwOJxCaXH"
      },
      "source": [
        "## 結果の確認\n",
        "\n"
      ]
    },
    {
      "cell_type": "markdown",
      "metadata": {
        "id": "TM0zWh-mCtEU"
      },
      "source": [
        "Loss：正しい答えとニューラルネットワーク出力の誤差  \n",
        "Accuracy：ニューラルネットワーク推論結果の正解率"
      ]
    },
    {
      "cell_type": "markdown",
      "metadata": {
        "id": "LCJ1dJBgA0hJ"
      },
      "source": [
        "### 学習データ"
      ]
    },
    {
      "cell_type": "markdown",
      "metadata": {
        "id": "TtkjC_6wBajD"
      },
      "source": [
        "Loss:"
      ]
    },
    {
      "cell_type": "code",
      "metadata": {
        "id": "84C118MABFiS"
      },
      "source": [
        "plt.plot(train_losses)"
      ],
      "execution_count": null,
      "outputs": []
    },
    {
      "cell_type": "markdown",
      "metadata": {
        "id": "wprzcVRwBgZ-"
      },
      "source": [
        "Accuracy:"
      ]
    },
    {
      "cell_type": "code",
      "metadata": {
        "id": "bMmh3MGYBAkA"
      },
      "source": [
        "plt.plot(train_accs)"
      ],
      "execution_count": null,
      "outputs": []
    },
    {
      "cell_type": "markdown",
      "metadata": {
        "id": "baNhdi0rA9c_"
      },
      "source": [
        "### テストデータ"
      ]
    },
    {
      "cell_type": "markdown",
      "metadata": {
        "id": "YX3NSzteBiKl"
      },
      "source": [
        "Loss:"
      ]
    },
    {
      "cell_type": "code",
      "metadata": {
        "id": "kxbaeyOzj39C"
      },
      "source": [
        "plt.plot(val_losses)"
      ],
      "execution_count": null,
      "outputs": []
    },
    {
      "cell_type": "markdown",
      "metadata": {
        "id": "R8BXvItXBjMi"
      },
      "source": [
        "Accuracy:"
      ]
    },
    {
      "cell_type": "code",
      "metadata": {
        "id": "RqmtPYz9j7KT"
      },
      "source": [
        "plt.plot(val_accs)"
      ],
      "execution_count": null,
      "outputs": []
    },
    {
      "cell_type": "markdown",
      "metadata": {
        "id": "fsv2Mi3BIThJ"
      },
      "source": [
        "## Summary"
      ]
    },
    {
      "cell_type": "code",
      "metadata": {
        "id": "fJVy1JxpItwq"
      },
      "source": [
        "!nvidia-smi\n",
        "print('Accuracy:{:.04f}'.format(running_val_acc))\n",
        "print('Time cost:{:.04f}'.format(end_time-start_time), 's')"
      ],
      "execution_count": null,
      "outputs": []
    },
    {
      "cell_type": "markdown",
      "metadata": {
        "id": "vGLWPrTLOq9I"
      },
      "source": [
        "## Appendix\n",
        "ニューラルネットワークの推論が間違えていた画像を確認する。  \n",
        "最大10枚まで表示"
      ]
    },
    {
      "cell_type": "code",
      "metadata": {
        "id": "wusTs8i35QJM"
      },
      "source": [
        "demo_dataloader = DataLoader(val_dataset, batch_size=1, shuffle=False)\n",
        "max_images = 10\n",
        "with torch.no_grad():\n",
        "  for imgs, labels in demo_dataloader:\n",
        "    imgs_reshape = imgs.view(1, -1)\n",
        "    imgs_reshape = imgs_reshape.to(device)\n",
        "    labels = labels.to(device)\n",
        "    output = model(imgs_reshape)\n",
        "    # dim=1 => 0-9の分類方向のMax値を返す\n",
        "    pred = torch.argmax(output, dim=1)\n",
        "    if not labels==pred:\n",
        "      max_images -= 1\n",
        "      print('correct: ', int(labels))\n",
        "      print('predicted: ', int(pred))\n",
        "      for i in range(28):\n",
        "        for j in range(28):\n",
        "          if imgs_reshape[0][i*28+j]==0:\n",
        "            print('□', end='')\n",
        "          else:\n",
        "            print('■', end='')\n",
        "        print('')\n",
        "      print('')\n",
        "    if max_images == 0:\n",
        "      break\n"
      ],
      "execution_count": null,
      "outputs": []
    }
  ]
}